{
 "cells": [
  {
   "cell_type": "markdown",
   "metadata": {},
   "source": [
    "## Imports and loading data"
   ]
  },
  {
   "cell_type": "code",
   "execution_count": 1,
   "metadata": {},
   "outputs": [],
   "source": [
    "from collections import Counter\n",
    "\n",
    "import numpy as np\n",
    "import pandas as pd\n",
    "\n",
    "from sklearn import preprocessing\n",
    "\n",
    "from sklearn.linear_model import LogisticRegression\n",
    "from sklearn.svm import SVC\n",
    "from sklearn.neighbors import KNeighborsClassifier\n",
    "from sklearn.ensemble import RandomForestClassifier\n",
    "from sklearn.naive_bayes import GaussianNB\n",
    "\n",
    "from sklearn.model_selection import GridSearchCV\n",
    "from sklearn.model_selection import StratifiedKFold\n",
    "from sklearn.metrics import accuracy_score"
   ]
  },
  {
   "cell_type": "code",
   "execution_count": 2,
   "metadata": {},
   "outputs": [],
   "source": [
    "np.set_printoptions(precision=4)"
   ]
  },
  {
   "cell_type": "code",
   "execution_count": 3,
   "metadata": {},
   "outputs": [],
   "source": [
    "X = np.genfromtxt('data/tra°bindata.csv', delimiter=',')\n",
    "y = np.genfromtxt('data/trainlabel.csv', delimiter=',')\n",
    "X_val = np.genfromtxt('data/testdata.csv', delimiter=',')"
   ]
  },
  {
   "cell_type": "markdown",
   "metadata": {},
   "source": [
    "## Standardizing"
   ]
  },
  {
   "cell_type": "code",
   "execution_count": 4,
   "metadata": {},
   "outputs": [],
   "source": [
    "scaler = preprocessing.StandardScaler().fit(X)"
   ]
  },
  {
   "cell_type": "code",
   "execution_count": 5,
   "metadata": {},
   "outputs": [],
   "source": [
    "X_std = scaler.transform(X)\n",
    "X_val_std = scaler.transform(X_val)"
   ]
  },
  {
   "cell_type": "markdown",
   "metadata": {},
   "source": [
    "## Nested cross validation for hyperparameter tuning and performance measurement"
   ]
  },
  {
   "cell_type": "code",
   "execution_count": 6,
   "metadata": {},
   "outputs": [],
   "source": [
    "def nested_CV(model, model_param_grid, X, y):\n",
    "    \n",
    "    outer_kfold = StratifiedKFold(n_splits=5, shuffle=True, random_state=0).split(X, y)\n",
    "    inner_kfold = StratifiedKFold(n_splits=5, shuffle=True, random_state=0)\n",
    "    (scores, test_scores, model_list) = ([], [], [])\n",
    "    \n",
    "    for k, (train, test) in enumerate(outer_kfold):                         \n",
    "        gs = GridSearchCV(\n",
    "                    estimator=model,\n",
    "                    param_grid=model_param_grid,\n",
    "                    scoring='accuracy',\n",
    "                    cv=inner_kfold,\n",
    "                    n_jobs=-1)\n",
    "        \n",
    "        gs.fit(X[train], y[train])\n",
    "        best_model = gs.best_estimator_\n",
    "        best_inner_score = gs.best_score_\n",
    "        test_scores.append(best_inner_score)\n",
    "        model_list.append(best_model)\n",
    "        \n",
    "        best_model.fit(X[train], y[train])\n",
    "        y_pred = best_model.predict(X[test])\n",
    "        \n",
    "        cur_acc = accuracy_score(y_true=y[test], y_pred=y_pred)\n",
    "        scores.append(cur_acc)\n",
    "        \n",
    "    return scores, test_scores, model_list"
   ]
  },
  {
   "cell_type": "markdown",
   "metadata": {},
   "source": [
    "### Logistic Regression"
   ]
  },
  {
   "cell_type": "code",
   "execution_count": 7,
   "metadata": {},
   "outputs": [],
   "source": [
    "lr_model = LogisticRegression(random_state=0)\n",
    "lr_param_grid=[{'C': [0.1, 1, 10, 50, 100, 500]}]"
   ]
  },
  {
   "cell_type": "code",
   "execution_count": 8,
   "metadata": {},
   "outputs": [],
   "source": [
    "lr_scores, lr_test_scores, lr_models = nested_CV(lr_model, lr_param_grid, X_std, y)"
   ]
  },
  {
   "cell_type": "code",
   "execution_count": 9,
   "metadata": {},
   "outputs": [
    {
     "data": {
      "text/plain": [
       "array([ 0.9223,  0.0136])"
      ]
     },
     "execution_count": 9,
     "metadata": {},
     "output_type": "execute_result"
    }
   ],
   "source": [
    "np.array([np.mean(lr_scores), np.std(lr_scores)])"
   ]
  },
  {
   "cell_type": "code",
   "execution_count": 10,
   "metadata": {},
   "outputs": [
    {
     "data": {
      "text/plain": [
       "array([ 0.9235,  0.0034])"
      ]
     },
     "execution_count": 10,
     "metadata": {},
     "output_type": "execute_result"
    }
   ],
   "source": [
    "np.array([np.mean(lr_test_scores), np.std(lr_test_scores)])"
   ]
  },
  {
   "cell_type": "code",
   "execution_count": 11,
   "metadata": {},
   "outputs": [
    {
     "name": "stdout",
     "output_type": "stream",
     "text": [
      "50\n",
      "500\n",
      "500\n",
      "10\n",
      "100\n"
     ]
    }
   ],
   "source": [
    "for model in lr_models:\n",
    "    print(model.C)"
   ]
  },
  {
   "cell_type": "markdown",
   "metadata": {},
   "source": [
    "### Support Vector Machine"
   ]
  },
  {
   "cell_type": "code",
   "execution_count": 12,
   "metadata": {},
   "outputs": [],
   "source": [
    "svm_model = SVC(random_state=0)\n",
    "svm_param_grid=[{'C': [0.01, 0.1, 1, 10, 50, 100], 'kernel':['linear', 'rbf']}]"
   ]
  },
  {
   "cell_type": "code",
   "execution_count": 13,
   "metadata": {},
   "outputs": [],
   "source": [
    "svm_scores, smv_test_scores, smv_models = nested_CV(svm_model, svm_param_grid, X_std, y)"
   ]
  },
  {
   "cell_type": "code",
   "execution_count": 14,
   "metadata": {},
   "outputs": [
    {
     "data": {
      "text/plain": [
       "array([ 0.9258,  0.011 ])"
      ]
     },
     "execution_count": 14,
     "metadata": {},
     "output_type": "execute_result"
    }
   ],
   "source": [
    "np.array([np.mean(svm_scores), np.std(svm_scores)])"
   ]
  },
  {
   "cell_type": "code",
   "execution_count": 15,
   "metadata": {},
   "outputs": [
    {
     "data": {
      "text/plain": [
       "array([ 0.9276,  0.0029])"
      ]
     },
     "execution_count": 15,
     "metadata": {},
     "output_type": "execute_result"
    }
   ],
   "source": [
    "np.array([np.mean(smv_test_scores), np.std(smv_test_scores)])"
   ]
  },
  {
   "cell_type": "code",
   "execution_count": 16,
   "metadata": {},
   "outputs": [
    {
     "name": "stdout",
     "output_type": "stream",
     "text": [
      "1 rbf\n",
      "10 rbf\n",
      "1 rbf\n",
      "1 linear\n",
      "1 rbf\n"
     ]
    }
   ],
   "source": [
    "for model in smv_models:\n",
    "    print(model.C, model.kernel)"
   ]
  },
  {
   "cell_type": "markdown",
   "metadata": {},
   "source": [
    "### K-Nearest Neighbours"
   ]
  },
  {
   "cell_type": "code",
   "execution_count": 17,
   "metadata": {},
   "outputs": [],
   "source": [
    "knn_model = KNeighborsClassifier(metric='minkowski')\n",
    "knn_param_grid= [{'n_neighbors': [1, 2, 3, 4, 5, 6], 'p': [1, 2]}]"
   ]
  },
  {
   "cell_type": "code",
   "execution_count": 18,
   "metadata": {},
   "outputs": [],
   "source": [
    "knn_scores, knn_test_scores, knn_models = nested_CV(knn_model, knn_param_grid, X_std, y)"
   ]
  },
  {
   "cell_type": "code",
   "execution_count": 19,
   "metadata": {},
   "outputs": [
    {
     "data": {
      "text/plain": [
       "array([ 0.9078,  0.01  ])"
      ]
     },
     "execution_count": 19,
     "metadata": {},
     "output_type": "execute_result"
    }
   ],
   "source": [
    "np.array([np.mean(knn_scores), np.std(knn_scores)])"
   ]
  },
  {
   "cell_type": "code",
   "execution_count": 20,
   "metadata": {},
   "outputs": [
    {
     "data": {
      "text/plain": [
       "array([ 0.9026,  0.0047])"
      ]
     },
     "execution_count": 20,
     "metadata": {},
     "output_type": "execute_result"
    }
   ],
   "source": [
    "np.array([np.mean(knn_test_scores), np.std(knn_test_scores)])"
   ]
  },
  {
   "cell_type": "code",
   "execution_count": 21,
   "metadata": {},
   "outputs": [
    {
     "name": "stdout",
     "output_type": "stream",
     "text": [
      "5 1\n",
      "5 1\n",
      "3 1\n",
      "5 1\n",
      "5 1\n"
     ]
    }
   ],
   "source": [
    "for model in knn_models:\n",
    "    print(model.n_neighbors, model.p)"
   ]
  },
  {
   "cell_type": "markdown",
   "metadata": {},
   "source": [
    "### Random Forest"
   ]
  },
  {
   "cell_type": "code",
   "execution_count": 22,
   "metadata": {},
   "outputs": [],
   "source": [
    "rf_model = RandomForestClassifier(random_state=0, n_jobs=-1)\n",
    "rf_param_grid = [{'n_estimators': [50, 150, 300, 500], 'criterion': ['gini', 'entropy']}]"
   ]
  },
  {
   "cell_type": "code",
   "execution_count": 23,
   "metadata": {},
   "outputs": [],
   "source": [
    "rf_scores, rf_test_scores, rf_models = nested_CV(rf_model, rf_param_grid, X_std, y)"
   ]
  },
  {
   "cell_type": "code",
   "execution_count": 24,
   "metadata": {},
   "outputs": [
    {
     "data": {
      "text/plain": [
       "array([ 0.9484,  0.0065])"
      ]
     },
     "execution_count": 24,
     "metadata": {},
     "output_type": "execute_result"
    }
   ],
   "source": [
    "np.array([np.mean(rf_scores), np.std(rf_scores)])"
   ]
  },
  {
   "cell_type": "code",
   "execution_count": 25,
   "metadata": {},
   "outputs": [
    {
     "data": {
      "text/plain": [
       "array([ 0.9484,  0.0023])"
      ]
     },
     "execution_count": 25,
     "metadata": {},
     "output_type": "execute_result"
    }
   ],
   "source": [
    "np.array([np.mean(rf_test_scores), np.std(rf_test_scores)])"
   ]
  },
  {
   "cell_type": "code",
   "execution_count": 26,
   "metadata": {},
   "outputs": [
    {
     "name": "stdout",
     "output_type": "stream",
     "text": [
      "50 gini\n",
      "500 entropy\n",
      "150 gini\n",
      "50 entropy\n",
      "300 entropy\n"
     ]
    }
   ],
   "source": [
    "for model in rf_models:\n",
    "    print(model.n_estimators, model.criterion)"
   ]
  },
  {
   "cell_type": "markdown",
   "metadata": {},
   "source": [
    "### Naive Bayes"
   ]
  },
  {
   "cell_type": "code",
   "execution_count": 27,
   "metadata": {},
   "outputs": [],
   "source": [
    "nb_model = GaussianNB()\n",
    "nb_param_grid = [{}]"
   ]
  },
  {
   "cell_type": "code",
   "execution_count": 28,
   "metadata": {},
   "outputs": [],
   "source": [
    "nb_scores, nb_test_scores, nb_models = nested_CV(nb_model, nb_param_grid, X_std, y)"
   ]
  },
  {
   "cell_type": "code",
   "execution_count": 29,
   "metadata": {},
   "outputs": [
    {
     "data": {
      "text/plain": [
       "array([ 0.8335,  0.0104])"
      ]
     },
     "execution_count": 29,
     "metadata": {},
     "output_type": "execute_result"
    }
   ],
   "source": [
    "np.array([np.mean(nb_scores), np.std(nb_scores)])"
   ]
  },
  {
   "cell_type": "code",
   "execution_count": 30,
   "metadata": {},
   "outputs": [
    {
     "data": {
      "text/plain": [
       "array([ 0.8358,  0.0043])"
      ]
     },
     "execution_count": 30,
     "metadata": {},
     "output_type": "execute_result"
    }
   ],
   "source": [
    "np.array([np.mean(nb_test_scores), np.std(nb_test_scores)])"
   ]
  },
  {
   "cell_type": "markdown",
   "metadata": {},
   "source": [
    "## Predicting on test set"
   ]
  },
  {
   "cell_type": "code",
   "execution_count": 31,
   "metadata": {},
   "outputs": [],
   "source": [
    "predictions = np.zeros(X_val_std.shape[0])\n",
    "\n",
    "chosen_lr = LogisticRegression(random_state=0, C=500)\n",
    "chosen_svm = SVC(random_state=0, C=1, kernel='rbf')\n",
    "chosen_knn = KNeighborsClassifier(metric='minkowski', n_neighbors=5, p=1)\n",
    "chosen_rf = RandomForestClassifier(random_state=0, n_estimators=500, criterion='entropy',n_jobs=-1)\n",
    "chosen_nb = GaussianNB()\n",
    "\n",
    "for chosen_model in [chosen_lr, chosen_svm, chosen_knn, chosen_rf, chosen_nb]:\n",
    "    \n",
    "    chosen_model.fit(X_std, y)\n",
    "    y_test_pred = chosen_model.predict(X_val_std)\n",
    "    predictions = predictions + y_test_pred"
   ]
  },
  {
   "cell_type": "code",
   "execution_count": 32,
   "metadata": {},
   "outputs": [],
   "source": [
    "predictions[predictions < 3] = 0\n",
    "predictions[predictions >= 3] = 1"
   ]
  },
  {
   "cell_type": "code",
   "execution_count": 33,
   "metadata": {},
   "outputs": [
    {
     "data": {
      "text/plain": [
       "Counter({0.0: 863, 1.0: 517})"
      ]
     },
     "execution_count": 33,
     "metadata": {},
     "output_type": "execute_result"
    }
   ],
   "source": [
    "Counter(predictions)"
   ]
  },
  {
   "cell_type": "code",
   "execution_count": 46,
   "metadata": {},
   "outputs": [],
   "source": [
    "np.savetxt(fname='project1_20483569.csv', X=predictions, fmt='%d')"
   ]
  }
 ],
 "metadata": {
  "kernelspec": {
   "display_name": "Python [conda env:py35]",
   "language": "python",
   "name": "conda-env-py35-py"
  },
  "language_info": {
   "codemirror_mode": {
    "name": "ipython",
    "version": 3
   },
   "file_extension": ".py",
   "mimetype": "text/x-python",
   "name": "python",
   "nbconvert_exporter": "python",
   "pygments_lexer": "ipython3",
   "version": "3.5.4"
  }
 },
 "nbformat": 4,
 "nbformat_minor": 2
}
